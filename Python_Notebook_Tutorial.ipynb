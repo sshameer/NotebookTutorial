{
 "cells": [
  {
   "cell_type": "markdown",
   "metadata": {},
   "source": [
    "## Introduction\n",
    "\n",
    "This document produces a short, minimalist worked-example of an Analysis Notebook documenting the process from data entry to production of publication-quality figures.\n",
    "\n",
    "## Hypothesis and design\n",
    "A good analysis follows any *a priori* hypotheses and follows from an appropriate experimental design. In this case, Darwin's hypothesis was that self-pollination leads to inbreeding depression. Accordingly, the design compares the fitness (using plant height as a surrogate) of pairs of self- and cross-pollinated plants. \n",
    "\n",
    "Adding SMPracticals darwin dataset from file"
   ]
  },
  {
   "cell_type": "code",
   "execution_count": 1,
   "metadata": {},
   "outputs": [],
   "source": [
    "import pandas as pd\n",
    "df = pd.read_csv(\"SMPractical_darwindataset.csv\")\n"
   ]
  },
  {
   "cell_type": "markdown",
   "metadata": {},
   "source": [
    "## Exploratory graphics"
   ]
  },
  {
   "cell_type": "code",
   "execution_count": 2,
   "metadata": {},
   "outputs": [
    {
     "data": {
      "text/plain": [
       "<Figure size 640x480 with 1 Axes>"
      ]
     },
     "metadata": {},
     "output_type": "display_data"
    }
   ],
   "source": [
    "import matplotlib.pyplot as plt\n",
    "%matplotlib inline\n",
    "plt.scatter(df[\"type\"],df[\"height\"])\n",
    "plt.margins(1)\n",
    "plt.grid()\n",
    "plt.xlabel(\"type\",fontsize=12)\n",
    "plt.ylabel(\"height\",fontsize=12)\n",
    "plt.show()"
   ]
  },
  {
   "cell_type": "markdown",
   "metadata": {},
   "source": [
    "## Analysis\n",
    "Linear model analysis:"
   ]
  },
  {
   "cell_type": "code",
   "execution_count": 3,
   "metadata": {},
   "outputs": [
    {
     "name": "stdout",
     "output_type": "stream",
     "text": [
      "                            OLS Regression Results                            \n",
      "==============================================================================\n",
      "Dep. Variable:                 height   R-squared:                       0.175\n",
      "Model:                            OLS   Adj. R-squared:                  0.146\n",
      "Method:                 Least Squares   F-statistic:                     5.940\n",
      "Date:                Thu, 23 May 2019   Prob (F-statistic):             0.0214\n",
      "Time:                        12:27:51   Log-Likelihood:                -73.889\n",
      "No. Observations:                  30   AIC:                             151.8\n",
      "Df Residuals:                      28   BIC:                             154.6\n",
      "Df Model:                           1                                         \n",
      "Covariance Type:            nonrobust                                         \n",
      "================================================================================\n",
      "                   coef    std err          t      P>|t|      [0.025      0.975]\n",
      "--------------------------------------------------------------------------------\n",
      "Intercept       20.1917      0.759     26.596      0.000      18.637      21.747\n",
      "type[T.Self]    -2.6167      1.074     -2.437      0.021      -4.816      -0.417\n",
      "==============================================================================\n",
      "Omnibus:                       16.447   Durbin-Watson:                   2.106\n",
      "Prob(Omnibus):                  0.000   Jarque-Bera (JB):               18.083\n",
      "Skew:                          -1.568   Prob(JB):                     0.000118\n",
      "Kurtosis:                       5.152   Cond. No.                         2.62\n",
      "==============================================================================\n",
      "\n",
      "Warnings:\n",
      "[1] Standard Errors assume that the covariance matrix of the errors is correctly specified.\n"
     ]
    }
   ],
   "source": [
    "from statsmodels.formula.api import ols\n",
    "linmodel = ols(formula=\"height ~ type\", data=df)\n",
    "result = linmodel.fit()\n",
    "print(result.summary())"
   ]
  },
  {
   "cell_type": "markdown",
   "metadata": {},
   "source": [
    "Analysis of variance"
   ]
  },
  {
   "cell_type": "code",
   "execution_count": 4,
   "metadata": {},
   "outputs": [
    {
     "name": "stdout",
     "output_type": "stream",
     "text": [
      "            df      sum_sq    mean_sq         F    PR(>F)\n",
      "type       1.0   51.352083  51.352083  5.939518  0.021414\n",
      "Residual  28.0  242.083333   8.645833       NaN       NaN\n"
     ]
    }
   ],
   "source": [
    "from statsmodels.stats import anova\n",
    "table = anova.anova_lm(result)\n",
    "print(table)"
   ]
  },
  {
   "cell_type": "markdown",
   "metadata": {},
   "source": [
    "## Assumptions\n",
    "Diagnostic plot of residuals vs. fitted values:\n"
   ]
  },
  {
   "cell_type": "code",
   "execution_count": 5,
   "metadata": {},
   "outputs": [
    {
     "data": {
      "image/png": "[encoded data removed]",
      "text/plain": [
       "<Figure size 432x288 with 1 Axes>"
      ]
     },
     "metadata": {},
     "output_type": "display_data"
    }
   ],
   "source": [
    "import matplotlib.pyplot as plt\n",
    "from statsmodels.api import graphics\n",
    "plt.scatter(result.fittedvalues,result.resid)\n",
    "plt.margins(0.1)\n",
    "plt.xlabel(\"residuals\",fontsize=12)\n",
    "plt.ylabel(\"fitted-values\",fontsize=12)\n",
    "plt.show()"
   ]
  },
  {
   "cell_type": "code",
   "execution_count": 6,
   "metadata": {},
   "outputs": [
    {
     "data": {
      "image/png": "[encoded data removed]",
      "text/plain": [
       "<Figure size 432x288 with 1 Axes>"
      ]
     },
     "metadata": {},
     "output_type": "display_data"
    }
   ],
   "source": [
    "import matplotlib.pyplot as plt\n",
    "from statsmodels.api import graphics\n",
    "fig = graphics.qqplot(result.resid,line=\"s\")\n",
    "plt.show()"
   ]
  },
  {
   "cell_type": "markdown",
   "metadata": {},
   "source": [
    "## Figures for publication"
   ]
  },
  {
   "cell_type": "code",
   "execution_count": 7,
   "metadata": {},
   "outputs": [
    {
     "data": {
      "image/png": "[encoded data removed]",
      "text/plain": [
       "<Figure size 432x288 with 1 Axes>"
      ]
     },
     "metadata": {},
     "output_type": "display_data"
    }
   ],
   "source": [
    "import matplotlib.pyplot as plt\n",
    "plt.scatter(df[\"type\"][df[\"type\"]==\"Cross\"],df[\"height\"][df[\"type\"]==\"Cross\"],marker=\".\",color=\"r\",label=\"Cross\")\n",
    "plt.scatter(df[\"type\"][df[\"type\"]==\"Self\"],df[\"height\"][df[\"type\"]==\"Self\"],marker=\"^\",color=\"c\",label=\"Self\")\n",
    "plt.margins(1)\n",
    "plt.grid()\n",
    "plt.ylim(11,25)\n",
    "plt.xlabel(\"Pollination Type\",fontsize=12)\n",
    "plt.ylabel(\"Height (Inches)\",fontsize=12)\n",
    "plt.legend()\n",
    "plt.show()"
   ]
  },
  {
   "cell_type": "markdown",
   "metadata": {},
   "source": [
    "## Summary\n",
    "The mean heights of the cross- and self-pollinated plants were 20.2 (95% CI: 18.6, 21.7) and 17.6 (16.0, 19.1) inches respectively, with a difference in height of -2.6 inches. A 95% CI for the difference in height did not contain zero.\n",
    "## Software versions:"
   ]
  },
  {
   "cell_type": "code",
   "execution_count": 12,
   "metadata": {},
   "outputs": [
    {
     "name": "stdout",
     "output_type": "stream",
     "text": [
      "pandas: 0.24.2\n",
      "matplotlib: 2.2.4\n",
      "numpy: 1.16.3\n",
      "statsmodels: 0.9.0\n"
     ]
    }
   ],
   "source": [
    "print(\"pandas: \"+str(pd.__version__))\n",
    "import matplotlib\n",
    "print(\"matplotlib: \"+str(matplotlib.__version__))\n",
    "import numpy as np\n",
    "print(\"numpy: \"+str(np.__version__))\n",
    "import statsmodels\n",
    "print(\"statsmodels: \"+str(statsmodels.__version__))"
   ]
  },
  {
   "cell_type": "code",
   "execution_count": null,
   "metadata": {},
   "outputs": [],
   "source": []
  },
  {
   "cell_type": "code",
   "execution_count": null,
   "metadata": {},
   "outputs": [],
   "source": []
  }
 ],
 "metadata": {
  "kernelspec": {
   "display_name": "Python 2",
   "language": "python",
   "name": "python2"
  },
  "language_info": {
   "codemirror_mode": {
    "name": "ipython",
    "version": 2
   },
   "file_extension": ".py",
   "mimetype": "text/x-python",
   "name": "python",
   "nbconvert_exporter": "python",
   "pygments_lexer": "ipython2",
   "version": "2.7.15rc1"
  }
 },
 "nbformat": 4,
 "nbformat_minor": 2
}
